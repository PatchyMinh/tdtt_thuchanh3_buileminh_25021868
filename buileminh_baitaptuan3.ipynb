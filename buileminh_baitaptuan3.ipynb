{
 "cells": [
  {
   "cell_type": "markdown",
   "id": "775cab92",
   "metadata": {},
   "source": [
    "Bài tập về nhà TDTT - Buổi 3"
   ]
  },
  {
   "cell_type": "code",
   "execution_count": 1,
   "id": "e341be53",
   "metadata": {},
   "outputs": [],
   "source": [
    "# H3.1\n"
   ]
  },
  {
   "cell_type": "code",
   "execution_count": null,
   "id": "a752fc1a",
   "metadata": {},
   "outputs": [],
   "source": []
  }
 ],
 "metadata": {
  "kernelspec": {
   "display_name": "Python 3",
   "language": "python",
   "name": "python3"
  },
  "language_info": {
   "codemirror_mode": {
    "name": "ipython",
    "version": 3
   },
   "file_extension": ".py",
   "mimetype": "text/x-python",
   "name": "python",
   "nbconvert_exporter": "python",
   "pygments_lexer": "ipython3",
   "version": "3.13.7"
  }
 },
 "nbformat": 4,
 "nbformat_minor": 5
}
