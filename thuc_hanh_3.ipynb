{
 "cells": [
  {
   "cell_type": "markdown",
   "id": "b659c7ed",
   "metadata": {},
   "source": [
    "Bài tập về nhà Tuần 3"
   ]
  },
  {
   "cell_type": "code",
   "execution_count": null,
   "id": "75ba43e3",
   "metadata": {},
   "outputs": [],
   "source": [
    "# H3.1"
   ]
  }
 ],
 "metadata": {
  "kernelspec": {
   "display_name": "Python 3",
   "language": "python",
   "name": "python3"
  },
  "language_info": {
   "name": "python",
   "version": "3.13.7"
  }
 },
 "nbformat": 4,
 "nbformat_minor": 5
}
