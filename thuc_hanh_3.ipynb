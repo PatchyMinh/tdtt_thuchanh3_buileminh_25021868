{
 "cells": [
  {
   "cell_type": "markdown",
   "id": "b659c7ed",
   "metadata": {},
   "source": [
    "Bài tập về nhà Tuần 3"
   ]
  },
  {
   "cell_type": "code",
   "execution_count": 34,
   "id": "75ba43e3",
   "metadata": {},
   "outputs": [
    {
     "name": "stdout",
     "output_type": "stream",
     "text": [
      "654321\n"
     ]
    }
   ],
   "source": [
    "# H3.1\n",
    "n = int(input(\"Nhập một số nguyên n: \"))\n",
    "digits = [str(i) for i in str(n)] # tách số nguyên n thành danh sách kí tự\n",
    "reverseNumber = \"\"\n",
    "length = len(str(n))\n",
    "for i in range(1, length + 1):\n",
    "    reverseNumber += digits[-i] # ghép từng kí tự vào trong số mới (khởi tạo bằng xâu rỗng), chạy từ kí tự cuối lên kí tự đầu tiên\n",
    "print(reverseNumber)"
   ]
  },
  {
   "cell_type": "code",
   "execution_count": null,
   "id": "23276777",
   "metadata": {},
   "outputs": [],
   "source": [
    "# H3.2\n"
   ]
  },
  {
   "cell_type": "code",
   "execution_count": null,
   "id": "34ee52f3",
   "metadata": {},
   "outputs": [],
   "source": [
    "# H3.3"
   ]
  },
  {
   "cell_type": "code",
   "execution_count": null,
   "id": "594a67e8",
   "metadata": {},
   "outputs": [
    {
     "name": "stdout",
     "output_type": "stream",
     "text": [
      "1221\n"
     ]
    }
   ],
   "source": [
    "# H3.4\n",
    "import math\n",
    "m, n = map(int, input(\"Nhập hai số nguyên m, n để thực hiện phép chia tròn xuống m cho n, hai số cách nhau bằng một dấu cách: \").split())\n",
    "quotient = m/n\n",
    "print(math.trunc(quotient))"
   ]
  },
  {
   "cell_type": "code",
   "execution_count": null,
   "id": "b86ed3eb",
   "metadata": {},
   "outputs": [
    {
     "name": "stdout",
     "output_type": "stream",
     "text": [
      "1221\n"
     ]
    }
   ],
   "source": [
    "# H3.5\n",
    "m, n = map(int, input(\"Nhập hai số nguyên m, n để thực hiện phép chia tròn lên m cho n, hai số cách nhau bằng một dấu cách: \").split())\n",
    "quotient = m/n\n",
    "print(round(quotient))"
   ]
  },
  {
   "cell_type": "code",
   "execution_count": 47,
   "id": "e600261e",
   "metadata": {},
   "outputs": [
    {
     "name": "stdout",
     "output_type": "stream",
     "text": [
      "Even\n"
     ]
    }
   ],
   "source": [
    "# H3.6\n",
    "x = int(input(\"Nhập một số nguyên x: \"))\n",
    "if x % 2 == 0:\n",
    "    print(\"Even\")\n",
    "else:\n",
    "    print(\"Odd\")"
   ]
  },
  {
   "cell_type": "code",
   "execution_count": 54,
   "id": "5a2af843",
   "metadata": {},
   "outputs": [
    {
     "name": "stdout",
     "output_type": "stream",
     "text": [
      "Yes\n"
     ]
    }
   ],
   "source": [
    "# H3.7\n",
    "a, b = map(int, input(\"Nhập hai số nguyên a, b: \").split())\n",
    "if a < 0 and b < 0:\n",
    "    print(\"Yes\")\n",
    "else:\n",
    "    print(\"No\")"
   ]
  },
  {
   "cell_type": "code",
   "execution_count": null,
   "id": "c1c5547b",
   "metadata": {},
   "outputs": [
    {
     "name": "stdout",
     "output_type": "stream",
     "text": [
      "True\n"
     ]
    }
   ],
   "source": [
    "# H3.8\n",
    "a, b = map(str, input(\"Nhập hai chuỗi kí tự, chuỗi này cách chuỗi kia một dấu cách : \").split())\n",
    "if len(a) > len(b):\n",
    "    print(\"True\")\n",
    "else:\n",
    "    print(\"False\")"
   ]
  },
  {
   "cell_type": "code",
   "execution_count": null,
   "id": "cf911842",
   "metadata": {},
   "outputs": [],
   "source": [
    "# H3.9 + H3.11\n"
   ]
  },
  {
   "cell_type": "code",
   "execution_count": 1,
   "id": "8c01cb8a",
   "metadata": {},
   "outputs": [
    {
     "name": "stdout",
     "output_type": "stream",
     "text": [
      "1298419824\n"
     ]
    }
   ],
   "source": [
    "# H3.10\n",
    "a, b, c, d = map(int, input(\"Nhập bốn số nguyên, hai số cách nhau một dấu cách: \").split())\n",
    "max = a\n",
    "if b > max:\n",
    "    max = b\n",
    "if c > max:\n",
    "    max = c\n",
    "if d > max:\n",
    "    max = d\n",
    "print(max)"
   ]
  }
 ],
 "metadata": {
  "kernelspec": {
   "display_name": "Python 3",
   "language": "python",
   "name": "python3"
  },
  "language_info": {
   "codemirror_mode": {
    "name": "ipython",
    "version": 3
   },
   "file_extension": ".py",
   "mimetype": "text/x-python",
   "name": "python",
   "nbconvert_exporter": "python",
   "pygments_lexer": "ipython3",
   "version": "3.13.7"
  }
 },
 "nbformat": 4,
 "nbformat_minor": 5
}
